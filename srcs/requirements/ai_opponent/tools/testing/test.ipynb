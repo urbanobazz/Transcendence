{
 "cells": [
  {
   "cell_type": "code",
   "execution_count": 35,
   "metadata": {},
   "outputs": [],
   "source": [
    "import json"
   ]
  },
  {
   "cell_type": "code",
   "execution_count": 36,
   "metadata": {},
   "outputs": [],
   "source": [
    "file_str = open(\"test.json\").read()\n",
    "data = json.loads(file_str)"
   ]
  },
  {
   "cell_type": "code",
   "execution_count": 37,
   "metadata": {},
   "outputs": [
    {
     "data": {
      "text/plain": [
       "{'ball': {'x': 5, 'y': 'Y_COORD', 'dx': 'X_SPEED', 'dy': 'Y_SPEED'},\n",
       " 'lpad': {'score': 'CURRENT_SCORE',\n",
       "  'x': 5,\n",
       "  'len': 'LENGTH BONUS',\n",
       "  'pow': 'POWER',\n",
       "  'speed': 'SPEED BONUS'},\n",
       " 'rpad': {'score': 'CURRENT_SCORE',\n",
       "  'x': 'X_COORD',\n",
       "  'len': 'LENGTH',\n",
       "  'pow': 'POWER',\n",
       "  'speed': 'SPEED BONUS'},\n",
       " 'meta': {'cwidth': 'CANVAS WIDTH IN PX',\n",
       "  'cheight': 'CANVAS height IN PX',\n",
       "  'bspeed': 'DEFAULT BALL SPEED',\n",
       "  'pspeed': 'DEFAULT PADDLE SPEED',\n",
       "  'grid': 'DEFAULT GRID SIZE'}}"
      ]
     },
     "execution_count": 37,
     "metadata": {},
     "output_type": "execute_result"
    }
   ],
   "source": [
    "paddle = data[\"gs\"][\"lpad\"]\n",
    "ball = data[\"gs\"][\"ball\"]\n",
    "data[\"gs\"]"
   ]
  },
  {
   "cell_type": "code",
   "execution_count": 38,
   "metadata": {},
   "outputs": [],
   "source": [
    "data[\"message\"] = \"tick\""
   ]
  },
  {
   "cell_type": "code",
   "execution_count": 39,
   "metadata": {},
   "outputs": [],
   "source": [
    "if (ball[\"x\"] == paddle[\"x\"]):\n",
    "\tdata[\"input\"][\"type\"] = \"keyup\"\n",
    "\tdata[\"input\"][\"key\"] = \"w\"\n",
    "\n",
    "elif (ball[\"x\"] < paddle[\"x\"]):\n",
    "\tdata[\"input\"][\"type\"] = \"keydown\"\n",
    "\tdata[\"input\"][\"key\"] = \"w\"\n",
    "\n",
    "elif (ball[\"x\"] > paddle[\"x\"]):\n",
    "\tdata[\"input\"][\"type\"] = \"keydown\"\n",
    "\tdata[\"input\"][\"key\"] = \"s\"\n"
   ]
  },
  {
   "cell_type": "code",
   "execution_count": 40,
   "metadata": {},
   "outputs": [],
   "source": [
    "json.dump(data, open(\"result.json\", \"w\"), indent=2)"
   ]
  }
 ],
 "metadata": {
  "kernelspec": {
   "display_name": "Python 3",
   "language": "python",
   "name": "python3"
  },
  "language_info": {
   "codemirror_mode": {
    "name": "ipython",
    "version": 3
   },
   "file_extension": ".py",
   "mimetype": "text/x-python",
   "name": "python",
   "nbconvert_exporter": "python",
   "pygments_lexer": "ipython3",
   "version": "3.10.12"
  }
 },
 "nbformat": 4,
 "nbformat_minor": 2
}
